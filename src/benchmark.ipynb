{
 "cells": [
  {
   "cell_type": "markdown",
   "metadata": {
    "application/vnd.databricks.v1+cell": {
     "cellMetadata": {},
     "inputWidgets": {},
     "nuid": "1eb8a9f6-833a-4df8-9c33-e60b2d1d3c39",
     "showTitle": false,
     "tableResultSettingsMap": {},
     "title": ""
    }
   },
   "source": [
    "## Download PBFs"
   ]
  },
  {
   "cell_type": "code",
   "execution_count": 0,
   "metadata": {
    "application/vnd.databricks.v1+cell": {
     "cellMetadata": {
      "byteLimit": 2048000,
      "rowLimit": 10000
     },
     "inputWidgets": {},
     "nuid": "56ead96f-4230-40df-a3db-2f08b297bac3",
     "showTitle": false,
     "tableResultSettingsMap": {},
     "title": ""
    }
   },
   "outputs": [
    {
     "name": "stdout",
     "output_type": "stream",
     "text": [
      "CPU times: user 3 µs, sys: 1 µs, total: 4 µs\n",
      "Wall time: 7.15 µs\n"
     ]
    },
    {
     "name": "stderr",
     "output_type": "stream",
     "text": [
      "/databricks/python/lib/python3.11/site-packages/IPython/core/interactiveshell.py:2870: UserWarning: Could not open file </Workspace/Users/timo.roest@databricks.com/.bundle/pbf_datasource/dev/files/src/download_pbf> for safe execution.\n",
      "  warn('Could not open file <%s> for safe execution.' % fname)\n"
     ]
    },
    {
     "name": "stdout",
     "output_type": "stream",
     "text": [
      "Fetching Geofabrik dataset index...\n"
     ]
    },
    {
     "name": "stdout",
     "output_type": "stream",
     "text": [
      "Downloading OSM data for region 'malta' from https://download.geofabrik.de/europe/malta-latest.osm.pbf...\n",
      "Download complete! File saved at: /Volumes/timo/geospatial/osm/malta-latest.osm.pbf\n"
     ]
    }
   ],
   "source": [
    "%run \"./download_pbf\" $region=Malta $pbfPath=/Volumes/timo/geospatial/osm/malta-latest.osm.pbf"
   ]
  },
  {
   "cell_type": "code",
   "execution_count": 0,
   "metadata": {
    "application/vnd.databricks.v1+cell": {
     "cellMetadata": {
      "byteLimit": 2048000,
      "rowLimit": 10000
     },
     "inputWidgets": {},
     "nuid": "c4282f10-babc-4663-9f46-2f9353d9de30",
     "showTitle": false,
     "tableResultSettingsMap": {},
     "title": ""
    }
   },
   "outputs": [
    {
     "name": "stdout",
     "output_type": "stream",
     "text": [
      "File size: 5.8 MB\n"
     ]
    }
   ],
   "source": [
    "path_malta = \"/Volumes/timo/geospatial/osm/malta-latest.osm.pbf\"\n",
    "filesize_mb = round(dbutils.fs.ls(path_malta)[0].size / 1048 ** 2, 1)\n",
    "print(F\"File size: {filesize_mb} MB\")"
   ]
  },
  {
   "cell_type": "code",
   "execution_count": 0,
   "metadata": {
    "application/vnd.databricks.v1+cell": {
     "cellMetadata": {
      "byteLimit": 2048000,
      "rowLimit": 10000
     },
     "inputWidgets": {},
     "nuid": "f20575ff-5574-45af-bb01-2fc68977d63a",
     "showTitle": false,
     "tableResultSettingsMap": {},
     "title": ""
    }
   },
   "outputs": [
    {
     "name": "stdout",
     "output_type": "stream",
     "text": [
      "Fetching Geofabrik dataset index...\n"
     ]
    },
    {
     "data": {
      "text/html": [
       "<style scoped>\n",
       "  .ansiout {\n",
       "    display: block;\n",
       "    unicode-bidi: embed;\n",
       "    white-space: pre-wrap;\n",
       "    word-wrap: break-word;\n",
       "    word-break: break-all;\n",
       "    font-family: \"Menlo\", \"Monaco\", \"Consolas\", \"Ubuntu Mono\", \"Source Code Pro\", monospace;\n",
       "    font-size: 13px;\n",
       "    color: #555;\n",
       "    margin-left: 4px;\n",
       "    line-height: 19px;\n",
       "  }\n",
       "</style>"
      ]
     },
     "metadata": {
      "application/vnd.databricks.v1+output": {
       "arguments": {},
       "data": "",
       "errorSummary": "The execution of this command did not finish successfully",
       "errorTraceType": "baseError",
       "metadata": {},
       "type": "ipynbError"
      }
     },
     "output_type": "display_data"
    }
   ],
   "source": [
    "%run \"./download_pbf\" $region=France $pbfPath=/Volumes/timo/geospatial/osm/france-latest.osm.pbf"
   ]
  },
  {
   "cell_type": "code",
   "execution_count": 0,
   "metadata": {
    "application/vnd.databricks.v1+cell": {
     "cellMetadata": {},
     "inputWidgets": {},
     "nuid": "01c1f4e5-6811-4370-8b73-3b0c953a0098",
     "showTitle": false,
     "tableResultSettingsMap": {},
     "title": ""
    }
   },
   "outputs": [
    {
     "name": "stdout",
     "output_type": "stream",
     "text": [
      "Downloading OSM data for region 'france' from https://download.geofabrik.de/europe/france-latest.osm.pbf...\n"
     ]
    }
   ],
   "source": [
    "path_france = \"/Volumes/timo/geospatial/osm/france-latest.osm.pbf\"\n",
    "filesize_mb = round(dbutils.fs.ls(path_france)[0].size / 1048 ** 2, 1)\n",
    "print(F\"File size: {filesize_mb} MB\")"
   ]
  },
  {
   "cell_type": "code",
   "execution_count": 0,
   "metadata": {
    "application/vnd.databricks.v1+cell": {
     "cellMetadata": {
      "byteLimit": 2048000,
      "rowLimit": 10000
     },
     "inputWidgets": {},
     "nuid": "aa1a9af9-4cbe-4f26-a221-9c0221774c1a",
     "showTitle": false,
     "tableResultSettingsMap": {},
     "title": ""
    }
   },
   "outputs": [
    {
     "name": "stdout",
     "output_type": "stream",
     "text": [
      "Fetching Geofabrik dataset index...\n"
     ]
    },
    {
     "name": "stdout",
     "output_type": "stream",
     "text": [
      "Downloading OSM data for region 'north-america' from https://download.geofabrik.de/north-america-latest.osm.pbf...\n"
     ]
    },
    {
     "data": {
      "text/html": [
       "<style scoped>\n",
       "  .ansiout {\n",
       "    display: block;\n",
       "    unicode-bidi: embed;\n",
       "    white-space: pre-wrap;\n",
       "    word-wrap: break-word;\n",
       "    word-break: break-all;\n",
       "    font-family: \"Menlo\", \"Monaco\", \"Consolas\", \"Ubuntu Mono\", \"Source Code Pro\", monospace;\n",
       "    font-size: 13px;\n",
       "    color: #555;\n",
       "    margin-left: 4px;\n",
       "    line-height: 19px;\n",
       "  }\n",
       "</style>"
      ]
     },
     "metadata": {
      "application/vnd.databricks.v1+output": {
       "arguments": {},
       "data": "",
       "errorSummary": "The execution of this command did not finish successfully",
       "errorTraceType": "baseError",
       "metadata": {},
       "type": "ipynbError"
      }
     },
     "output_type": "display_data"
    }
   ],
   "source": [
    "%run \"./download_pbf\" $region=north-america $pbfPath=/Volumes/timo/geospatial/osm/north-america-latest.osm.pbf"
   ]
  },
  {
   "cell_type": "code",
   "execution_count": 0,
   "metadata": {
    "application/vnd.databricks.v1+cell": {
     "cellMetadata": {
      "byteLimit": 2048000,
      "rowLimit": 10000
     },
     "inputWidgets": {},
     "nuid": "bf12baf1-1b37-4eb3-b27c-3d4fcd8cb4b5",
     "showTitle": false,
     "tableResultSettingsMap": {},
     "title": ""
    }
   },
   "outputs": [],
   "source": [
    "path_north_america = \"/Volumes/timo/geospatial/osm/north-america-latest.osm.pbf\"\n",
    "filesize_mb = round(dbutils.fs.ls(path_north_america)[0].size / 1048 ** 2, 1)\n",
    "print(F\"File size: {filesize_mb} MB\")"
   ]
  },
  {
   "cell_type": "markdown",
   "metadata": {
    "application/vnd.databricks.v1+cell": {
     "cellMetadata": {},
     "inputWidgets": {},
     "nuid": "64d5732d-b247-4fc6-ade3-f84379559542",
     "showTitle": false,
     "tableResultSettingsMap": {},
     "title": ""
    }
   },
   "source": [
    "## Run Benchmark"
   ]
  },
  {
   "cell_type": "code",
   "execution_count": 0,
   "metadata": {
    "application/vnd.databricks.v1+cell": {
     "cellMetadata": {
      "byteLimit": 2048000,
      "rowLimit": 10000
     },
     "inputWidgets": {},
     "nuid": "d8b8ff54-ee46-4bd1-8477-bc24e77f9b21",
     "showTitle": false,
     "tableResultSettingsMap": {},
     "title": ""
    }
   },
   "outputs": [
    {
     "name": "stdout",
     "output_type": "stream",
     "text": [
      "The autoreload extension is already loaded. To reload it, use:\n",
      "  %reload_ext autoreload\n"
     ]
    },
    {
     "name": "stdout",
     "output_type": "stream",
     "text": [
      "\u001b[43mNote: you may need to restart the kernel using %restart_python or dbutils.library.restartPython() to use updated packages.\u001b[0m\n"
     ]
    }
   ],
   "source": [
    "%run \"./load_datasource\""
   ]
  },
  {
   "cell_type": "code",
   "execution_count": 0,
   "metadata": {
    "application/vnd.databricks.v1+cell": {
     "cellMetadata": {
      "byteLimit": 2048000,
      "rowLimit": 10000
     },
     "inputWidgets": {},
     "nuid": "5b60b170-b7c9-4d3b-aab2-044541d088e3",
     "showTitle": false,
     "tableResultSettingsMap": {},
     "title": ""
    }
   },
   "outputs": [],
   "source": [
    "import time\n",
    "import pandas as pd\n",
    "\n",
    "# Create a global list to store logs\n",
    "execution_logs = []\n",
    "\n",
    "def measure_execution_time(func):\n",
    "    def wrapper(*args, **kwargs):\n",
    "        start_time = time.time()\n",
    "        result = func(*args, **kwargs)\n",
    "        end_time = time.time()\n",
    "        execution_time = end_time - start_time\n",
    "\n",
    "        # Determine the human-readable format of execution time\n",
    "        if execution_time < 60:\n",
    "            readable_time = f\"{execution_time:.2f} seconds\"\n",
    "        elif execution_time < 3600:\n",
    "            readable_time = f\"{execution_time / 60:.2f} minutes\"\n",
    "        else:\n",
    "            readable_time = f\"{execution_time / 3600:.2f} hours\"\n",
    "\n",
    "        # Log the execution time\n",
    "        print(f\"Execution time: {readable_time}\")\n",
    "\n",
    "        # Log details in the global execution_logs list\n",
    "        execution_logs.append({\n",
    "            \"Path\": args[0] if len(args) > 0 else kwargs.get(\"pbfPath\", \"Unknown\"),\n",
    "            \"Table Name\": args[1] if len(args) > 1 else kwargs.get(\"tableName\", \"Unknown\"),\n",
    "            \"Execution Time\": readable_time\n",
    "        })\n",
    "\n",
    "        return result\n",
    "    return wrapper\n",
    "  \n",
    "@measure_execution_time\n",
    "def load_and_save_geospatial_data(pbfPath, tableName):\n",
    "    (\n",
    "        spark.read.format(\"pbf\")\n",
    "        .option(\"path\", pbfPath)\n",
    "        .option(\"geometryType\", \"WKT\")\n",
    "        .option(\"emptyTagFilter\", True)\n",
    "        .option(\"keyFilter\", \"building\")\n",
    "        .load()\n",
    "        .write\n",
    "        .mode(\"overwrite\")\n",
    "        .saveAsTable(tableName)\n",
    "    )"
   ]
  },
  {
   "cell_type": "code",
   "execution_count": 0,
   "metadata": {
    "application/vnd.databricks.v1+cell": {
     "cellMetadata": {
      "byteLimit": 2048000,
      "rowLimit": 10000
     },
     "inputWidgets": {},
     "nuid": "b3c76b07-50e1-432b-a56e-984191cc7520",
     "showTitle": false,
     "tableResultSettingsMap": {},
     "title": ""
    }
   },
   "outputs": [
    {
     "name": "stdout",
     "output_type": "stream",
     "text": [
      "Execution time: 12.07 seconds\n"
     ]
    }
   ],
   "source": [
    "load_and_save_geospatial_data(\"/Volumes/timo/geospatial/osm/andorra-latest.osm.pbf\", 'timo.geospatial.buildings_andorra')"
   ]
  },
  {
   "cell_type": "code",
   "execution_count": 0,
   "metadata": {
    "application/vnd.databricks.v1+cell": {
     "cellMetadata": {
      "byteLimit": 2048000,
      "rowLimit": 10000
     },
     "inputWidgets": {},
     "nuid": "652c9004-2c58-45a5-b736-8884a40d59db",
     "showTitle": false,
     "tableResultSettingsMap": {},
     "title": ""
    }
   },
   "outputs": [
    {
     "name": "stdout",
     "output_type": "stream",
     "text": [
      "Execution time: 5.97 seconds\n"
     ]
    }
   ],
   "source": [
    "load_and_save_geospatial_data(path_malta, 'timo.geospatial.buildings_malta')"
   ]
  },
  {
   "cell_type": "code",
   "execution_count": 0,
   "metadata": {
    "application/vnd.databricks.v1+cell": {
     "cellMetadata": {},
     "inputWidgets": {},
     "nuid": "287be169-ec2b-47ec-a7ef-5cfe54d02c9e",
     "showTitle": false,
     "tableResultSettingsMap": {},
     "title": ""
    }
   },
   "outputs": [],
   "source": [
    "load_and_save_geospatial_data(path_france, 'timo.geospatial.buildings_france')"
   ]
  },
  {
   "cell_type": "code",
   "execution_count": 0,
   "metadata": {
    "application/vnd.databricks.v1+cell": {
     "cellMetadata": {},
     "inputWidgets": {},
     "nuid": "4314f235-0a8f-4168-8f99-1e56226660d1",
     "showTitle": false,
     "tableResultSettingsMap": {},
     "title": ""
    }
   },
   "outputs": [],
   "source": [
    "load_and_save_geospatial_data(path_north_america, 'timo.geospatial.buildings_north_america')"
   ]
  },
  {
   "cell_type": "markdown",
   "metadata": {
    "application/vnd.databricks.v1+cell": {
     "cellMetadata": {},
     "inputWidgets": {},
     "nuid": "a75cb637-6b6b-42c2-818b-cb2bc307f317",
     "showTitle": false,
     "tableResultSettingsMap": {},
     "title": ""
    }
   },
   "source": [
    "# Results"
   ]
  },
  {
   "cell_type": "code",
   "execution_count": 0,
   "metadata": {
    "application/vnd.databricks.v1+cell": {
     "cellMetadata": {
      "byteLimit": 2048000,
      "rowLimit": 10000
     },
     "inputWidgets": {},
     "nuid": "e6d22399-663c-4cdf-a0e2-f9971e348320",
     "showTitle": false,
     "tableResultSettingsMap": {},
     "title": ""
    }
   },
   "outputs": [
    {
     "data": {
      "text/html": [
       "<style scoped>\n",
       "  .table-result-container {\n",
       "    max-height: 300px;\n",
       "    overflow: auto;\n",
       "  }\n",
       "  table, th, td {\n",
       "    border: 1px solid black;\n",
       "    border-collapse: collapse;\n",
       "  }\n",
       "  th, td {\n",
       "    padding: 5px;\n",
       "  }\n",
       "  th {\n",
       "    text-align: left;\n",
       "  }\n",
       "</style><div class='table-result-container'><table class='table-result'><thead style='background-color: white'><tr><th>Path</th><th>Table Name</th><th>Execution Time</th></tr></thead><tbody><tr><td>/Volumes/timo/geospatial/osm/andorra-latest.osm.pbf</td><td>timo.geospatial.buildings_andorra</td><td>12.07 seconds</td></tr><tr><td>/Volumes/timo/geospatial/osm/malta-latest.osm.pbf</td><td>timo.geospatial.buildings_malta</td><td>5.97 seconds</td></tr></tbody></table></div>"
      ]
     },
     "metadata": {
      "application/vnd.databricks.v1+output": {
       "addedWidgets": {},
       "aggData": [],
       "aggError": "",
       "aggOverflow": false,
       "aggSchema": [],
       "aggSeriesLimitReached": false,
       "aggType": "",
       "arguments": {},
       "columnCustomDisplayInfos": {},
       "data": [
        [
         "/Volumes/timo/geospatial/osm/andorra-latest.osm.pbf",
         "timo.geospatial.buildings_andorra",
         "12.07 seconds"
        ],
        [
         "/Volumes/timo/geospatial/osm/malta-latest.osm.pbf",
         "timo.geospatial.buildings_malta",
         "5.97 seconds"
        ]
       ],
       "datasetInfos": [],
       "dbfsResultPath": null,
       "isJsonSchema": true,
       "metadata": {},
       "overflow": false,
       "plotOptions": {
        "customPlotOptions": {},
        "displayType": "table",
        "pivotAggregation": null,
        "pivotColumns": null,
        "xColumns": null,
        "yColumns": null
       },
       "removedWidgets": [],
       "schema": [
        {
         "metadata": "{}",
         "name": "Path",
         "type": "\"string\""
        },
        {
         "metadata": "{}",
         "name": "Table Name",
         "type": "\"string\""
        },
        {
         "metadata": "{}",
         "name": "Execution Time",
         "type": "\"string\""
        }
       ],
       "type": "table"
      }
     },
     "output_type": "display_data"
    }
   ],
   "source": [
    "# Convert logs to a pandas DataFrame\n",
    "execution_logs_df = pd.DataFrame(execution_logs)\n",
    "\n",
    "# Display the DataFrame\n",
    "display(execution_logs_df)"
   ]
  },
  {
   "cell_type": "markdown",
   "metadata": {
    "application/vnd.databricks.v1+cell": {
     "cellMetadata": {},
     "inputWidgets": {},
     "nuid": "454ce3a3-3d86-4344-8297-f7ad6e106560",
     "showTitle": false,
     "tableResultSettingsMap": {},
     "title": ""
    }
   },
   "source": [
    "| Path                                                      | Table Name                              | Execution Time |\n",
    "|-----------------------------------------------------------|-----------------------------------------|----------------|\n",
    "| /Volumes/timo/geospatial/osm/andorra-latest.osm.pbf       | timo.geospatial.buildings_andorra       | 25.45 seconds  |\n",
    "| /Volumes/timo/geospatial/osm/malta-latest.osm.pbf         | timo.geospatial.buildings_malta         | 6.95 seconds   |\n",
    "| /Volumes/timo/geospatial/osm/france-latest.osm.pbf        | timo.geospatial.buildings_france        | 42.39 minutes  |\n",
    "| /Volumes/timo/geospatial/osm/north-america-latest.osm.pbf | timo.geospatial.buildings_north_america | 1.25 hours     |"
   ]
  },
  {
   "cell_type": "markdown",
   "metadata": {},
   "source": []
  }
 ],
 "metadata": {
  "application/vnd.databricks.v1+notebook": {
   "dashboards": [],
   "environmentMetadata": {
    "base_environment": "",
    "client": "1"
   },
   "language": "python",
   "notebookMetadata": {
    "pythonIndentUnit": 2
   },
   "notebookName": "benchmark_dev",
   "widgets": {}
  },
  "language_info": {
   "name": "python"
  }
 },
 "nbformat": 4,
 "nbformat_minor": 0
}

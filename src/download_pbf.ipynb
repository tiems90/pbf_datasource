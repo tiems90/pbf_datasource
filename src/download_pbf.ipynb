{
 "cells": [
  {
   "cell_type": "code",
   "execution_count": 10,
   "metadata": {},
   "outputs": [],
   "source": [
    "import requests"
   ]
  },
  {
   "cell_type": "code",
   "execution_count": null,
   "metadata": {},
   "outputs": [],
   "source": [
    "# get Path\n",
    "dbutils.widgets.text(\"pbfPath\", \"\", \"Path to PBF file\")\n",
    "pbfPath = dbutils.widgets.get(\"pbfPath\")\n",
    "\n",
    "# get Region\n",
    "dbutils.widgets.text(\"region\", \"\", \"Region\")\n",
    "region = dbutils.widgets.get(\"region\").lower()"
   ]
  },
  {
   "cell_type": "code",
   "execution_count": 27,
   "metadata": {},
   "outputs": [],
   "source": [
    "\n",
    "# Define the mirror index URL\n",
    "mirror_index_url = \"https://download.geofabrik.de/index-v1-nogeom.json\"\n",
    "\n",
    "# Fetch the dataset index\n",
    "print(\"Fetching Geofabrik dataset index...\")\n",
    "response = requests.get(mirror_index_url)\n",
    "if response.status_code != 200:\n",
    "    raise ConnectionError(f\"Failed to fetch dataset index (status code {response.status_code})\")\n",
    "\n",
    "# Parse the JSON data\n",
    "features = response.json()[\"features\"]\n",
    "datasets = list(map(lambda x: x[\"properties\"], features))"
   ]
  },
  {
   "cell_type": "code",
   "execution_count": null,
   "metadata": {},
   "outputs": [],
   "source": [
    "\n",
    "filtered_datasets = [\n",
    "    ds for ds in datasets\n",
    "    # Include datasets where the child appears in the \"id\"\n",
    "    if region in ds[\"id\"].lower() or region in ds[\"name\"].lower()\n",
    "]\n",
    "\n",
    "if not filtered_datasets:\n",
    "    raise ValueError(f\"Region '{region}' not found in available datasets.\")\n",
    "\n",
    "# Extract the dataset information\n",
    "selected_dataset = filtered_datasets[0]\n",
    "download_url = selected_dataset.get(\"urls\", {}).get(\"pbf\")\n",
    "if not download_url:\n",
    "    raise ValueError(f\"No PBF file available for region '{region}'.\")"
   ]
  },
  {
   "cell_type": "code",
   "execution_count": null,
   "metadata": {},
   "outputs": [],
   "source": [
    "# Download the file\n",
    "print(f\"Downloading OSM data for region '{region}' from {download_url}...\")\n",
    "with requests.get(download_url, stream=True) as r:\n",
    "    r.raise_for_status()\n",
    "    with open(pbfPath, 'wb') as f:\n",
    "        for chunk in r.iter_content(chunk_size=8192):\n",
    "            f.write(chunk)\n",
    "\n",
    "print(f\"Download complete! File saved at: {pbfPath}\")"
   ]
  }
 ],
 "metadata": {
  "kernelspec": {
   "display_name": "Python 3",
   "language": "python",
   "name": "python3"
  },
  "language_info": {
   "codemirror_mode": {
    "name": "ipython",
    "version": 3
   },
   "file_extension": ".py",
   "mimetype": "text/x-python",
   "name": "python",
   "nbconvert_exporter": "python",
   "pygments_lexer": "ipython3",
   "version": "3.11.10"
  }
 },
 "nbformat": 4,
 "nbformat_minor": 2
}

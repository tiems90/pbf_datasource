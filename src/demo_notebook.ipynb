{
 "cells": [
  {
   "cell_type": "markdown",
   "metadata": {
    "application/vnd.databricks.v1+cell": {
     "cellMetadata": {},
     "inputWidgets": {},
     "nuid": "ee353e42-ff58-4955-9608-12865bd0950e",
     "showTitle": false,
     "title": ""
    }
   },
   "source": [
    "OpenStreetMap PBF Data Processing with Apache Spark\n",
    "================================================\n",
    "\n",
    "This notebook demonstrates how to process OpenStreetMap (OSM) PBF files using a custom Spark datasource.\n",
    "It showcases efficient data loading and filtering techniques for large-scale geospatial data processing.\n",
    "\n",
    "Step 1: Initialize Custom PBF Datasource\n",
    " --------------------------------------"
   ]
  },
  {
   "cell_type": "code",
   "execution_count": null,
   "metadata": {
    "application/vnd.databricks.v1+cell": {
     "cellMetadata": {
      "byteLimit": 2048000,
      "rowLimit": 10000
     },
     "inputWidgets": {},
     "nuid": "6bca260b-13d1-448f-8082-30b60a85c9ae",
     "showTitle": false,
     "title": ""
    }
   },
   "outputs": [],
   "source": [
    "%run \"./load_datasource\""
   ]
  },
  {
   "cell_type": "markdown",
   "metadata": {},
   "source": [
    "Step 2: Configure Data Paths\n",
    "-------------------------\n",
    "OSM PBF files can be downloaded for different regions from https://download.geofabrik.de/\n"
   ]
  },
  {
   "cell_type": "code",
   "execution_count": null,
   "metadata": {},
   "outputs": [],
   "source": [
    "path_lux = \"/Volumes/timo/geospatial/osm/luxembourg-latest.osm.pbf\"\n",
    "path_fra = \"/Volumes/timo/geospatial/osm/france-latest.osm.pbf\"\n",
    "path = \"/Volumes/timo/geospatial/osm/andorra-latest.osm.pbf\""
   ]
  },
  {
   "cell_type": "markdown",
   "metadata": {},
   "source": [
    "Step 3: Initialize Spark Session\n",
    "----------------------------\n"
   ]
  },
  {
   "cell_type": "code",
   "execution_count": 2,
   "metadata": {},
   "outputs": [],
   "source": [
    "from pyspark.sql import SparkSession\n",
    "spark = SparkSession.builder.getOrCreate()"
   ]
  },
  {
   "cell_type": "markdown",
   "metadata": {},
   "source": [
    "Step 4: Load and Filter PBF Data\n",
    "-----------------------------\n",
    "IMPORTANT: The initial PBF reading occurs on a single node using osmium.\n",
    "Performance Tips:\n",
    "- Use a machine with sufficient memory and CPU\n",
    "- Apply filters in the following order for optimal performance:\n",
    "  1. emptyTagFilter: Removes entries with no tags\n",
    "  2. keyFilter: Filters for specific OSM keys\n",
    "  3. tagFilter: Filters for specific key-value pairs\n"
   ]
  },
  {
   "cell_type": "code",
   "execution_count": null,
   "metadata": {},
   "outputs": [],
   "source": [
    "df = (\n",
    "    spark.read.format(\"pbf\")\n",
    "    .option(\"path\", path)\n",
    "    .option(\"geometryType\", \"WKT\")\n",
    "    .option(\"emptyTagFilter\", True)\n",
    "    .option(\"keyFilter\", \"building\")\n",
    "    .option(\"tagFilter\", \"('building', 'hospital')\")\n",
    "    .load()\n",
    ")"
   ]
  },
  {
   "cell_type": "markdown",
   "metadata": {},
   "source": [
    "Step 5: Display Results\n",
    "--------------------"
   ]
  },
  {
   "cell_type": "code",
   "execution_count": null,
   "metadata": {},
   "outputs": [],
   "source": []
  },
  {
   "cell_type": "code",
   "execution_count": null,
   "metadata": {},
   "outputs": [],
   "source": [
    "df.display()"
   ]
  },
  {
   "cell_type": "markdown",
   "metadata": {},
   "source": [
    "Note: After this initial loading phase, the data is distributed across the Spark cluster\n",
    "for further processing and analysis."
   ]
  }
 ],
 "metadata": {
  "application/vnd.databricks.v1+notebook": {
   "dashboards": [],
   "language": "python",
   "notebookMetadata": {
    "pythonIndentUnit": 2
   },
   "notebookName": "notebook",
   "widgets": {}
  },
  "kernelspec": {
   "display_name": "Python 3",
   "language": "python",
   "name": "python3"
  },
  "language_info": {
   "codemirror_mode": {
    "name": "ipython",
    "version": 3
   },
   "file_extension": ".py",
   "mimetype": "text/x-python",
   "name": "python",
   "nbconvert_exporter": "python",
   "pygments_lexer": "ipython3",
   "version": "3.11.10"
  }
 },
 "nbformat": 4,
 "nbformat_minor": 0
}

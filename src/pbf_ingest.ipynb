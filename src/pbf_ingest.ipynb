{
 "cells": [
  {
   "cell_type": "code",
   "execution_count": null,
   "metadata": {},
   "outputs": [],
   "source": [
    "# Set up widgets for job parameters\n",
    "dbutils.widgets.text(\"pbfPath\", \"\", \"Path to PBF file\")\n",
    "dbutils.widgets.text(\"geometryType\", \"WKT\", \"Geometry Type\")\n",
    "dbutils.widgets.text(\"emptyTagFilter\", \"true\", \"Empty Tag Filter (true/false)\")\n",
    "dbutils.widgets.text(\"keyFilter\", \"\", \"Key Filter (optional)\")\n",
    "dbutils.widgets.text(\"tagFilter\", \"\", \"Tag Filter (optional)\")\n",
    "dbutils.widgets.text(\"bronzeTable\", \"delta_table\", \"Output Delta Table\")"
   ]
  },
  {
   "cell_type": "code",
   "execution_count": null,
   "metadata": {},
   "outputs": [],
   "source": [
    "# Retrieve widget values\n",
    "pbfPath = dbutils.widgets.get(\"pbfPath\")\n",
    "geometryType = dbutils.widgets.get(\"geometryType\")\n",
    "emptyTagFilter = dbutils.widgets.get(\"emptyTagFilter\").lower() == \"true\"\n",
    "keyFilter = dbutils.widgets.get(\"keyFilter\") or None  # Set to None if empty\n",
    "tagFilter = dbutils.widgets.get(\"tagFilter\") or None  # Set to None if empty\n",
    "bronzeTable = dbutils.widgets.get(\"bronzeTable\")"
   ]
  },
  {
   "cell_type": "code",
   "execution_count": null,
   "metadata": {},
   "outputs": [],
   "source": [
    "%run \"./load_datasource\""
   ]
  },
  {
   "cell_type": "code",
   "execution_count": null,
   "metadata": {},
   "outputs": [],
   "source": [
    "# Validate required parameters\n",
    "if not pbfPath:\n",
    "    raise ValueError(\"The 'pbfPath' parameter is required.\")\n",
    "\n",
    "# Build the reader options dynamically\n",
    "reader = spark.read.format(\"pbf\").option(\"path\", pbfPath).option(\"geometryType\", geometryType)\n",
    "\n",
    "if emptyTagFilter:\n",
    "    reader = reader.option(\"emptyTagFilter\", True)\n",
    "\n",
    "if keyFilter is not None:\n",
    "    reader = reader.option(\"keyFilter\", keyFilter)\n",
    "\n",
    "if tagFilter is not None:\n",
    "    reader = reader.option(\"tagFilter\", tagFilter)"
   ]
  },
  {
   "cell_type": "code",
   "execution_count": null,
   "metadata": {},
   "outputs": [],
   "source": [
    "# Load the data\n",
    "df = reader.load()"
   ]
  },
  {
   "cell_type": "code",
   "execution_count": null,
   "metadata": {},
   "outputs": [],
   "source": [
    "# Save the data to a Delta table\n",
    "df.write.format(\"delta\").mode(\"overwrite\").saveAsTable(bronzeTable)\n",
    "\n",
    "print(f\"Data has been saved to the Delta table: {bronzeTable}\")"
   ]
  }
 ],
 "metadata": {
  "language_info": {
   "name": "python"
  }
 },
 "nbformat": 4,
 "nbformat_minor": 2
}
